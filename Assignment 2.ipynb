{
 "cells": [
  {
   "cell_type": "code",
   "execution_count": 6,
   "id": "d8937c73-9ba3-4405-9167-baf96b20d31f",
   "metadata": {},
   "outputs": [
    {
     "ename": "NameError",
     "evalue": "name 'calculate_score' is not defined",
     "output_type": "error",
     "traceback": [
      "\u001b[0;31m---------------------------------------------------------------------------\u001b[0m",
      "\u001b[0;31mNameError\u001b[0m                                 Traceback (most recent call last)",
      "Cell \u001b[0;32mIn[6], line 55\u001b[0m\n\u001b[1;32m     53\u001b[0m \u001b[38;5;66;03m#This will test a round of 4\u001b[39;00m\n\u001b[1;32m     54\u001b[0m rounds \u001b[38;5;241m=\u001b[39m \u001b[38;5;241m4\u001b[39m \n\u001b[0;32m---> 55\u001b[0m \u001b[43mplay_game\u001b[49m\u001b[43m(\u001b[49m\u001b[43mrounds\u001b[49m\u001b[43m)\u001b[49m\n",
      "Cell \u001b[0;32mIn[6], line 44\u001b[0m, in \u001b[0;36mplay_game\u001b[0;34m(rounds)\u001b[0m\n\u001b[1;32m     41\u001b[0m game \u001b[38;5;241m=\u001b[39m [(random\u001b[38;5;241m.\u001b[39mchoice(gestures), random\u001b[38;5;241m.\u001b[39mchoice(gestures)) \u001b[38;5;28;01mfor\u001b[39;00m _ \u001b[38;5;129;01min\u001b[39;00m \u001b[38;5;28mrange\u001b[39m(rounds)]\n\u001b[1;32m     43\u001b[0m \u001b[38;5;28;01mfor\u001b[39;00m round_num, (player1_choice, player2_choice) \u001b[38;5;129;01min\u001b[39;00m \u001b[38;5;28menumerate\u001b[39m(game, start\u001b[38;5;241m=\u001b[39m\u001b[38;5;241m1\u001b[39m):\n\u001b[0;32m---> 44\u001b[0m     score, message \u001b[38;5;241m=\u001b[39m \u001b[43mcalculate_score\u001b[49m(player1_choice, player2_choice)\n\u001b[1;32m     45\u001b[0m     player1_score \u001b[38;5;241m+\u001b[39m\u001b[38;5;241m=\u001b[39m score\n\u001b[1;32m     46\u001b[0m     player2_score \u001b[38;5;241m+\u001b[39m\u001b[38;5;241m=\u001b[39m \u001b[38;5;241m15\u001b[39m \u001b[38;5;241m-\u001b[39m score  \u001b[38;5;66;03m# Total score for a round is 15 (5 for a win, 3 for a draw, 0 for a loss)\u001b[39;00m\n",
      "\u001b[0;31mNameError\u001b[0m: name 'calculate_score' is not defined"
     ]
    }
   ],
   "source": [
    "#Task 1\n",
    "# Create a function named generate_game that randomly initialise a list representing a game. \n",
    "#The function should return a list of tuples, where each tuple has the value of the hand of a player. \n",
    "#The function should take as parameters the number of rounds of the game.\n",
    "#You should use the random module to generate pseudo-random numbers.\n",
    "\n",
    "#Reference:\n",
    "#https://www.w3schools.com/python/module_random.asp\n",
    "#https://www.datacamp.com/tutorial/python-tuples?utm_source=google&utm_medium=paid_search&utm_campaignid=19589720821&utm_adgroupid=157156375191&utm_device=c&utm_keyword=&utm_matchtype=&utm_network=s&utm_adpostion=&utm_creative=691747307431&utm_targetid=dsa-2218886984100&utm_loc_interest_ms=&utm_loc_physical_ms=1006602&utm_content=&utm_campaign=230119_1-sea~dsa~tofu_2-b2c_3-row-p1_4-prc_5-na_6-na_7-le_8-pdsh-go_9-na_10-na_11-na-feb24&gad_source=5&gclid=EAIaIQobChMIpZ7L7fbahAMVgoRoCR1TGwktEAAYASAAEgKAB_D_BwE\n",
    "#https://docs.python.org/3/library/random.html\n",
    "\n",
    "import random \n",
    "\n",
    "def generate_game(player_choice, computer_choice):  # This is the function that will generate the game \n",
    "    outcomes = {\n",
    "        (\"Scissors\", \"Paper\"): \"Scissors cut Paper\",\n",
    "        (\"Paper\", \"Rock\"): \"Paper covers Rock\",\n",
    "        (\"Rock\", \"Lizard\"): \"Rock crushes Lizard\",\n",
    "        (\"Lizard\", \"Spock\"): \"Lizard poisons Spock\",\n",
    "        (\"Spock\", \"Scissors\"): \"Spock smashes Scissors\",\n",
    "        (\"Scissors\", \"Lizard\"): \"Scissors decapitate Lizard\",\n",
    "        (\"Lizard\", \"Paper\"): \"Lizard eats Paper\",\n",
    "        (\"Paper\", \"Spock\"): \"Paper disproves Spock\",\n",
    "        (\"Spock\", \"Rock\"): \"Spock vaporizes Rock\",\n",
    "        (\"Rock\", \"Scissors\"): \"Rock breaks Scissors\"\n",
    "    }  \n",
    "    #This is the list of tuples, which display the different outcomes, Tuples are a simple group of objects.\n",
    "\n",
    "    if player_choice == computer_choice:\n",
    "        return 3, \"It's a draw.\"\n",
    "    elif (player_choice, computer_choice) in outcomes:\n",
    "        return 5, f\"{outcomes[(player_choice, computer_choice)]}. You win!\"\n",
    "    else:\n",
    "        return 0, f\"{outcomes[(computer_choice, player_choice)]}. Computer wins!\"\n",
    "\n",
    "def play_game(rounds):\n",
    "    player1_score = 0\n",
    "    player2_score = 0\n",
    "\n",
    "    gestures = [\"Rock\", \"Paper\", \"Scissors\", \"Lizard\", \"Spock\"]\n",
    "    game = [(random.choice(gestures), random.choice(gestures)) for _ in range(rounds)]\n",
    "\n",
    "    for round_num, (player1_choice, player2_choice) in enumerate(game, start=1):\n",
    "        score, message = calculate_score(player1_choice, player2_choice)\n",
    "        player1_score += score\n",
    "        player2_score += 15 - score  # Total score for a round is 15 (5 for a win, 3 for a draw, 0 for a loss)\n",
    "        print(f\"Round {round_num}: Player 1 ({player1_choice}) vs Player 2 ({player2_choice}): {message}\")\n",
    "\n",
    "    print(f\"Total Score:\")\n",
    "    print(f\"Player 1: {player1_score}\")\n",
    "    print(f\"Player 2: {player2_score}\")\n",
    "\n",
    "#This will test a round of 4\n",
    "rounds = 4 \n",
    "play_game(rounds)"
   ]
  },
  {
   "cell_type": "code",
   "execution_count": 3,
   "id": "0d1d07f7-5c44-4853-8a71-0be10f2c0bb2",
   "metadata": {},
   "outputs": [
    {
     "name": "stdout",
     "output_type": "stream",
     "text": [
      "Player 1 Score: 3\n",
      "Player 2 Score: 15\n"
     ]
    }
   ],
   "source": [
    "# Task 2  Create a function named score that computes the total score of each player given a game list.\n",
    "# The function should return a tuple ( score play 1, score player 2)e.g.18,15\n",
    "\n",
    "#Reference:\n",
    "#https://www.w3schools.com/python/python_tuples.asp\n",
    "\n",
    "def score(game):   #This is the function of the score.\n",
    "    player1_score = 0\n",
    "    player2_score = 0\n",
    "\n",
    "    for player1_choice, player2_choice in game: #This is the tuple, which is below which displays the list. \n",
    "        if (player1_choice, player2_choice) in [('Rock', 'Scissors'), ('Paper', 'Rock'), ('Scissors', 'Paper'), ('Lizard', 'Spock'), ('Spock', 'Rock'), ('Rock', 'Lizard'), ('Lizard', 'Paper'), ('Paper', 'Spock'), ('Spock', 'Scissors'), ('Scissors', 'Lizard')]:\n",
    "            player1_score += 5  # Player 1 wins\n",
    "        elif player1_choice == player2_choice:\n",
    "            player1_score += 3  # Draw\n",
    "        else:\n",
    "            player2_score += 5  # Player 2 wins\n",
    "\n",
    "    return player1_score, player2_score\n",
    "\n",
    "#Print the score of each player\n",
    "game = [('Ro', 'Sp'), ('Ro', 'Li'), ('Sc', 'Pa'), ('Pa', 'Pa')]\n",
    "player1_score, player2_score = score(game)\n",
    "print(\"Player 1 Score:\", player1_score)\n",
    "print(\"Player 2 Score:\", player2_score)\n"
   ]
  },
  {
   "cell_type": "code",
   "execution_count": 2,
   "id": "8881fc96-cc77-4055-befe-be45628fdbc9",
   "metadata": {},
   "outputs": [
    {
     "name": "stdout",
     "output_type": "stream",
     "text": [
      "Most common hand for Player 1: Rock\n",
      "Most common hand for Player 2: Paper\n"
     ]
    }
   ],
   "source": [
    "# Task 3\n",
    "#Create a function named common_hand that given a game list, \n",
    "#It return a tuple with the values of most common played hand for each player - e.g. considering the example above, it would return\n",
    "#If there us more than one hand  with the same total number, the function should one to return.\n",
    "\n",
    "#Reference:\n",
    "#https://www.w3schools.com/python/python_tuples.asp\n",
    "\n",
    "\n",
    "from collections import Counter\n",
    "\n",
    "def common_hand(game):\n",
    "    player1_hands = [player1_choice for player1_choice, _ in game]\n",
    "    player2_hands = [player2_choice for _, player2_choice in game]\n",
    "\n",
    "    player1_most_common = Counter(player1_hands).most_common(1)[0][0]\n",
    "    player2_most_common = Counter(player2_hands).most_common(1)[0][0]\n",
    "\n",
    "    return player1_most_common, player2_most_common  #It returns the tuple with the value of the most common played hand for each player\n",
    "\n",
    "#Print the most common player\n",
    "game = [('Rock', 'Spock'), ('Rock', 'Lizard'), ('Scissors', 'Paper'), ('Paper', 'Paper')]\n",
    "most_common_player1, most_common_player2 = common_hand(game)\n",
    "print(\"Most common hand for Player 1:\", most_common_player1)\n",
    "print(\"Most common hand for Player 2:\", most_common_player2)"
   ]
  },
  {
   "cell_type": "code",
   "execution_count": 36,
   "id": "58b50d61-07be-49c7-80d8-fbf96c816a10",
   "metadata": {},
   "outputs": [
    {
     "name": "stdout",
     "output_type": "stream",
     "text": [
      "Most common pair of hands: [(('Rock', 'Scissors'), 6)]\n"
     ]
    }
   ],
   "source": [
    "#Task 4\n",
    "\n",
    "#Create a function name  common_pair that gives a list of games (list of lists). return a tuple with the hand player.\n",
    "#Note that this should be independent of the order of the hands in a pair - e.g. the pair should be considered the same pair of hands as for this calculation.\n",
    "#If there is more than one pair of hands with the same total number, the function should choose one to return.\n",
    "\n",
    "#Reference:\n",
    "#https://www.w3schools.com/python/python_lists.asp\n",
    "#https://www.w3schools.com/python/ref_func_max.asp\n",
    "\n",
    "\n",
    "from collections import Counter\n",
    "\n",
    "def common_pair(games):    # common_pair is the function \n",
    "    pair_counts = Counter()\n",
    "\n",
    "    \n",
    "    for game in games:\n",
    "       \n",
    "        for round in game:\n",
    "            \n",
    "            sorted_round = tuple(sorted(round))\n",
    "            pair_counts[sorted_round] += 1\n",
    "\n",
    "    #This should locate the most common pair in the list of game \n",
    "    most_common_pairs = pair_counts.most_common()\n",
    "    max_count = most_common_pairs[0][1]\n",
    "    most_common_pairs = [(pair, count) for pair, count in most_common_pairs if count == max_count]\n",
    "\n",
    "    # Return the most common pair\n",
    "    return most_common_pairs\n",
    "\n",
    "games = [[('Rock', 'Scissors'), ('Rock', 'Scissors'), ('Rock', 'Scissors')],\n",
    "         [('Paper', 'Scissors'), ('Paper', 'Scissors'), ('Paper', 'Scissors')],\n",
    "         [('Scissors', 'Rock'), ('Scissors', 'Rock'), ('Scissors', 'Rock')]]\n",
    "result = common_pair(games)\n",
    "print(\"Most common pair of hands:\", result) # Therefore, this should display the most common pairs, and will display the number of times that the common pair appears.\n"
   ]
  },
  {
   "cell_type": "code",
   "execution_count": 5,
   "id": "fb283c5a-d2a6-4f32-811c-daf7bbc2bfdc",
   "metadata": {},
   "outputs": [
    {
     "name": "stdout",
     "output_type": "stream",
     "text": [
      "Winning Hand: ('Rock', 6)\n"
     ]
    }
   ],
   "source": [
    "#Task 5\n",
    "#Create a function named wining_hand that given a list of games (list of lists), returns a tuple with the hand that won the most rounds won.\n",
    "#In case there is more than one hand with the same number of winning rounds, then your function should return a list of tuples.\n",
    "\n",
    "#Reference:\n",
    "#https://www.w3schools.com/python/python_tuples.asp\n",
    "\n",
    "def winning_hand(games):   #Function named wining_hand given a list of games\n",
    "    hand_wins = {}\n",
    "\n",
    "    for game in games:\n",
    "        \n",
    "        for round in game:\n",
    "            \n",
    "            player1_choice, player2_choice = round\n",
    "            if (player1_choice, player2_choice) in [('Rock', 'Scissors'), ('Paper', 'Rock'), ('Scissors', 'Paper'), ('Lizard', 'Spock'), ('Spock', 'Rock'), ('Rock', 'Lizard'), ('Lizard', 'Paper'), ('Paper', 'Spock'), ('Spock', 'Scissors'), ('Scissors', 'Lizard')]:\n",
    "                hand_wins[player1_choice] = hand_wins.get(player1_choice, 0) + 1\n",
    "            elif (player2_choice, player1_choice) in [('Rock', 'Scissors'), ('Paper', 'Rock'), ('Scissors', 'Paper'), ('Lizard', 'Spock'), ('Spock', 'Rock'), ('Rock', 'Lizard'), ('Lizard', 'Paper'), ('Paper', 'Spock'), ('Spock', 'Scissors'), ('Scissors', 'Lizard')]:\n",
    "                hand_wins[player2_choice] = hand_wins.get(player2_choice, 0) + 1\n",
    "\n",
    "    # This should find the maximum value\n",
    "    max_wins = max(hand_wins.values())\n",
    "\n",
    "    winning_hands = [(hand, wins) for hand, wins in hand_wins.items() if wins == max_wins]\n",
    "\n",
    "    # If there's only one hand with the maximum number of wins, return it as a tuple\n",
    "    if len(winning_hands) == 1:\n",
    "        return winning_hands[0]\n",
    "    else:\n",
    "        return winning_hands\n",
    "\n",
    "#This should print out the maximum times of the winning hand, which this case is the \"Rock\" that has been winning\n",
    "\n",
    "games = [[('Scissors', 'Rock'), ('Scissors', 'Rock'), ('Scissors', 'Rock')],\n",
    "         [('Paper', 'Scissors'), ('Paper', 'Scissors'), ('Paper', 'Scissors')],\n",
    "         [('Rock', 'Scissors'), ('Rock', 'Scissors'), ('Rock', 'Scissors')]]\n",
    "\n",
    "result = winning_hand(games)\n",
    "print(\"Winning Hand:\", result)"
   ]
  }
 ],
 "metadata": {
  "kernelspec": {
   "display_name": "Python 3 (ipykernel)",
   "language": "python",
   "name": "python3"
  },
  "language_info": {
   "codemirror_mode": {
    "name": "ipython",
    "version": 3
   },
   "file_extension": ".py",
   "mimetype": "text/x-python",
   "name": "python",
   "nbconvert_exporter": "python",
   "pygments_lexer": "ipython3",
   "version": "3.10.12"
  }
 },
 "nbformat": 4,
 "nbformat_minor": 5
}
